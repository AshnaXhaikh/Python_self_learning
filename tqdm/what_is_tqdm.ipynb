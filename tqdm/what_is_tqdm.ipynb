{
  "nbformat": 4,
  "nbformat_minor": 0,
  "metadata": {
    "colab": {
      "provenance": []
    },
    "kernelspec": {
      "name": "python3",
      "display_name": "Python 3"
    },
    "language_info": {
      "name": "python"
    }
  },
  "cells": [
    {
      "cell_type": "markdown",
      "source": [
        "## 📄 What is `tqdm`?\n",
        "\n",
        "The `tqdm` library is a fast, extensible progress bar tool for Python loops. The name comes from the Arabic word **\"taqaddum\" (تقدّم)**, which means \"progress.\" It's used to provide visual feedback and time estimates for long-running operations in loops, making your code easier to monitor.\n",
        "\n",
        "-----\n",
        "\n",
        "## Why Use `tqdm`?\n",
        "\n",
        "1.  **Visual Progress:** It displays a live bar showing the percentage completion.\n",
        "2.  **Time Estimation:** It calculates the elapsed time and estimates the time remaining (ETA).\n",
        "3.  **Speed Monitoring:** It shows the current iteration speed (iterations per second).\n",
        "\n",
        "This is especially valuable in environments like Kaggle notebooks or when training deep learning models, where processes can take minutes or hours.\n",
        "\n"
      ],
      "metadata": {
        "id": "OPqE2DqXYfL_"
      }
    },
    {
      "cell_type": "markdown",
      "source": [
        "### Standard Loop Syntax:\n",
        "\n",
        "```python\n",
        "for item in iterable:\n",
        "    # Code block runs here"
      ],
      "metadata": {
        "id": "v3e-solgZJI-"
      }
    },
    {
      "cell_type": "code",
      "source": [
        "import time\n",
        "\n",
        "print(\"---standard loop---\")\n",
        "for i in range(5):\n",
        "    # The loop runs, but you see no live progress\n",
        "    time.sleep(0.1)\n",
        "    print(f\"Iteration {i} complete\")\n",
        "\n",
        "print(\"Loop finished.\")"
      ],
      "metadata": {
        "colab": {
          "base_uri": "https://localhost:8080/"
        },
        "id": "Rs2vBrRUZZrc",
        "outputId": "b65571e4-05ab-4359-f129-bcdd465517c9"
      },
      "execution_count": 1,
      "outputs": [
        {
          "output_type": "stream",
          "name": "stdout",
          "text": [
            "---standard loop---\n",
            "Iteration 0 complete\n",
            "Iteration 1 complete\n",
            "Iteration 2 complete\n",
            "Iteration 3 complete\n",
            "Iteration 4 complete\n",
            "Loop finished.\n"
          ]
        }
      ]
    },
    {
      "cell_type": "markdown",
      "source": [
        "-----\n",
        "\n",
        "## Basic Syntax\n",
        "\n",
        "The core functionality of `tqdm` is to **wrap any iterable object** (like a `range`, a list, or a data loader) inside the `tqdm()` function."
      ],
      "metadata": {
        "id": "WSgbVZpKZEU_"
      }
    },
    {
      "cell_type": "markdown",
      "source": [
        "```python\n",
        "\n",
        "### `tqdm` Loop Syntax:\n",
        "\n",
        "```python\n",
        "from tqdm import tqdm\n",
        "\n",
        "for item in tqdm(iterable, desc=\"Optional Label\"):\n",
        "    # Code block runs here\n",
        "```\n",
        "\n",
        "The `desc` argument allows you to add a label to the progress bar for clearer identification.\n"
      ],
      "metadata": {
        "id": "p6lC63bcZVhu"
      }
    },
    {
      "cell_type": "code",
      "execution_count": 2,
      "metadata": {
        "colab": {
          "base_uri": "https://localhost:8080/"
        },
        "id": "hmpXMkgxXxEt",
        "outputId": "2b553335-4f8c-45eb-a5c2-3a5667f79792"
      },
      "outputs": [
        {
          "output_type": "stream",
          "name": "stdout",
          "text": [
            "--- Loop WITH tqdm Progress Bar ---\n"
          ]
        },
        {
          "output_type": "stream",
          "name": "stderr",
          "text": [
            "Counting:  20%|██        | 1/5 [00:00<00:00,  9.97it/s]"
          ]
        },
        {
          "output_type": "stream",
          "name": "stdout",
          "text": [
            "Current value of i: 0\n"
          ]
        },
        {
          "output_type": "stream",
          "name": "stderr",
          "text": [
            "\rCounting:  40%|████      | 2/5 [00:00<00:00,  9.92it/s]"
          ]
        },
        {
          "output_type": "stream",
          "name": "stdout",
          "text": [
            "Current value of i: 1\n"
          ]
        },
        {
          "output_type": "stream",
          "name": "stderr",
          "text": [
            "\rCounting:  60%|██████    | 3/5 [00:00<00:00,  9.90it/s]"
          ]
        },
        {
          "output_type": "stream",
          "name": "stdout",
          "text": [
            "Current value of i: 2\n"
          ]
        },
        {
          "output_type": "stream",
          "name": "stderr",
          "text": [
            "\rCounting:  80%|████████  | 4/5 [00:00<00:00,  9.87it/s]"
          ]
        },
        {
          "output_type": "stream",
          "name": "stdout",
          "text": [
            "Current value of i: 3\n"
          ]
        },
        {
          "output_type": "stream",
          "name": "stderr",
          "text": [
            "Counting: 100%|██████████| 5/5 [00:00<00:00,  9.86it/s]"
          ]
        },
        {
          "output_type": "stream",
          "name": "stdout",
          "text": [
            "Current value of i: 4\n",
            "\n",
            "Loop finished.\n"
          ]
        },
        {
          "output_type": "stream",
          "name": "stderr",
          "text": [
            "\n"
          ]
        }
      ],
      "source": [
        "import time\n",
        "from tqdm import tqdm\n",
        "\n",
        "print(\"--- Loop WITH tqdm Progress Bar ---\")\n",
        "# The tqdm() wrapper prints a progress bar as the loop runs\n",
        "for i in tqdm(range(5), desc=\"Counting\"):\n",
        "    time.sleep(0.1)\n",
        "    print(f\"Current value of i: {i}\")\n",
        "\n",
        "print(\"\\nLoop finished.\")\n",
        "# Output includes a progress bar line like:\n",
        "# Counting: 100%|██████████| 5/5 [00:00<00:00,  9.99it/s]\n",
        "\n",
        "\n"
      ]
    },
    {
      "cell_type": "markdown",
      "source": [
        "```python\n",
        "from tqdm import tqdm\n",
        "```\n",
        "* The line from tqdm import tqdm is used to import the tqdm function, which is a Python library that provides a smart progress bar for loops. 📈"
      ],
      "metadata": {
        "id": "IJxaXCblZwDD"
      }
    },
    {
      "cell_type": "markdown",
      "source": [
        "The **desc** argument in the `tqdm()` function is a **description string** used to label the progress bar. Its purpose is to clearly tell the user what task the progress bar is tracking."
      ],
      "metadata": {
        "id": "a5G56HBcav_V"
      }
    },
    {
      "cell_type": "code",
      "source": [
        "import time\n",
        "from tqdm import tqdm\n",
        "\n",
        "print(\"--- Loop WITH tqdm Progress Bar ---\")\n",
        "# The tqdm() wrapper prints a progress bar as the loop runs\n",
        "for i in tqdm(range(5), desc=\"Counting\"):\n",
        "    time.sleep(0.1)\n",
        "    # print(f\"Current value of i: {i}\")\n",
        "\n",
        "print(\"\\nLoop finished.\")\n",
        "# Output includes a progress bar line like:\n",
        "# Counting: 100%|██████████| 5/5 [00:00<00:00,  9.99it/s]\n",
        "\n",
        "\n"
      ],
      "metadata": {
        "colab": {
          "base_uri": "https://localhost:8080/"
        },
        "id": "lpNwe_VlZkfs",
        "outputId": "bcd4d9d5-d544-49af-c9f2-3ce4cfbe8a3d"
      },
      "execution_count": 3,
      "outputs": [
        {
          "output_type": "stream",
          "name": "stdout",
          "text": [
            "--- Loop WITH tqdm Progress Bar ---\n"
          ]
        },
        {
          "output_type": "stream",
          "name": "stderr",
          "text": [
            "Counting: 100%|██████████| 5/5 [00:00<00:00,  9.88it/s]"
          ]
        },
        {
          "output_type": "stream",
          "name": "stdout",
          "text": [
            "\n",
            "Loop finished.\n"
          ]
        },
        {
          "output_type": "stream",
          "name": "stderr",
          "text": [
            "\n"
          ]
        }
      ]
    },
    {
      "cell_type": "code",
      "source": [],
      "metadata": {
        "id": "WDn1B7jOeHhy"
      },
      "execution_count": null,
      "outputs": []
    }
  ]
}