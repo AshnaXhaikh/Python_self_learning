{
  "nbformat": 4,
  "nbformat_minor": 0,
  "metadata": {
    "colab": {
      "provenance": []
    },
    "kernelspec": {
      "name": "python3",
      "display_name": "Python 3"
    },
    "language_info": {
      "name": "python"
    }
  },
  "cells": [
    {
      "cell_type": "code",
      "source": [
        "import time\n",
        "import random\n",
        "from tqdm import tqdm\n",
        "\n",
        "def process_file(file_name):\n",
        "    \"\"\"\n",
        "    Simulates a file processing task, which takes a variable amount of time.\n",
        "    \"\"\"\n",
        "    # Wait a random time (50ms to 200ms) to simulate work\n",
        "    processing_time = random.uniform(0.05, 0.2)\n",
        "    time.sleep(processing_time)\n",
        "\n",
        "    # Send back a message\n",
        "    return f\"Processed {file_name} in {processing_time:.2f}s\"\n",
        "\n",
        "def run_file_processor(num_files=50):\n",
        "    \"\"\"\n",
        "    Main function to simulate processing a list of files using tqdm.\n",
        "    \"\"\"\n",
        "    print(f\"--- Starting Simulated File Processing for {num_files} files ---\")\n",
        "\n",
        "    # 1. Create a list of fake file names\n",
        "    file_list = [f\"document_{i+1}.txt\" for i in range(num_files)]\n",
        "\n",
        "    # 2. Use tqdm to add a progress bar to the loop\n",
        "    processed_results = []\n",
        "\n",
        "    # The heart of the project:\n",
        "    for file_name in tqdm(file_list, desc=\"Processing Files\"):\n",
        "        # 3. Process the file and save the result\n",
        "        result = process_file(file_name)\n",
        "        processed_results.append(result)\n",
        "\n",
        "        # Only print the first 3 files to keep the output clean\n",
        "        if file_list.index(file_name) < 3:\n",
        "            print(f\"  [Log] {result}\")\n",
        "\n",
        "    print(\"\\n--- Processing Complete ---\")\n",
        "    print(f\"Successfully processed {len(processed_results)} files.\")\n",
        "\n",
        "    # Send back the full list of results\n",
        "    return processed_results\n",
        "\n",
        "if __name__ == \"__main__\":\n",
        "    # Runs the function with 30 files when the script starts\n",
        "    run_file_processor(num_files=30)\n"
      ],
      "metadata": {
        "colab": {
          "base_uri": "https://localhost:8080/"
        },
        "id": "1P0sgcI-hSUq",
        "outputId": "f6a1eed9-5ba0-442e-838d-9a532b5440b6"
      },
      "execution_count": 12,
      "outputs": [
        {
          "output_type": "stream",
          "name": "stdout",
          "text": [
            "--- Starting Simulated File Processing for 30 files ---\n"
          ]
        },
        {
          "output_type": "stream",
          "name": "stderr",
          "text": [
            "Processing Files:   7%|▋         | 2/30 [00:00<00:01, 14.47it/s]"
          ]
        },
        {
          "output_type": "stream",
          "name": "stdout",
          "text": [
            "  [Log] Processed document_1.txt in 0.05s\n",
            "  [Log] Processed document_2.txt in 0.08s\n"
          ]
        },
        {
          "output_type": "stream",
          "name": "stderr",
          "text": [
            "\rProcessing Files:  13%|█▎        | 4/30 [00:00<00:02,  9.39it/s]"
          ]
        },
        {
          "output_type": "stream",
          "name": "stdout",
          "text": [
            "  [Log] Processed document_3.txt in 0.17s\n"
          ]
        },
        {
          "output_type": "stream",
          "name": "stderr",
          "text": [
            "Processing Files: 100%|██████████| 30/30 [00:04<00:00,  7.27it/s]"
          ]
        },
        {
          "output_type": "stream",
          "name": "stdout",
          "text": [
            "\n",
            "--- Processing Complete ---\n",
            "Successfully processed 30 files.\n"
          ]
        },
        {
          "output_type": "stream",
          "name": "stderr",
          "text": [
            "\n"
          ]
        }
      ]
    }
  ]
}